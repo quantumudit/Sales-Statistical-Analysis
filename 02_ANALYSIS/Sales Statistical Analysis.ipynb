{
 "cells": [
  {
   "attachments": {},
   "cell_type": "markdown",
   "metadata": {
    "azdata_cell_guid": "9746681d-5c21-4874-be0e-98bb571f42f6"
   },
   "source": [
    "# Sales Statistics Analysis\n",
    "\n",
    "This notebook focuses on a statistical analysis of various key metrics that impacts the overall sales of a certain store.<br>\n",
    "We received one year data with daily granularity of the store to perform the analysis. "
   ]
  },
  {
   "cell_type": "markdown",
   "metadata": {
    "azdata_cell_guid": "d8650974-b941-49a0-b63d-96a4be11c346"
   },
   "source": [
    "## Descriptive Statistics"
   ]
  },
  {
   "cell_type": "markdown",
   "metadata": {
    "azdata_cell_guid": "2223473e-6c63-4494-8445-ff4e151f36c0",
    "language": "sql"
   },
   "source": [
    "**Total Transactions**\n",
    "\n",
    "The following query shows the total number of transactions made in the entire year"
   ]
  },
  {
   "cell_type": "code",
   "execution_count": 5,
   "metadata": {
    "azdata_cell_guid": "1c7c9509-6af5-495b-969d-397adee97b22",
    "language": "sql"
   },
   "outputs": [
    {
     "data": {
      "text/html": [
       "(1 row(s) affected)"
      ]
     },
     "metadata": {},
     "output_type": "display_data"
    },
    {
     "data": {
      "text/html": [
       "Total execution time: 00:00:00.002"
      ]
     },
     "metadata": {},
     "output_type": "display_data"
    },
    {
     "data": {
      "application/vnd.dataresource+json": {
       "data": [
        {
         "0": "365"
        }
       ],
       "schema": {
        "fields": [
         {
          "name": "total_transactions"
         }
        ]
       }
      },
      "text/html": [
       "<table><tr><th>total_transactions</th></tr><tr><td>365</td></tr></table>"
      ]
     },
     "execution_count": 5,
     "metadata": {},
     "output_type": "execute_result"
    }
   ],
   "source": [
    "SELECT\n",
    "    COUNT(*) AS total_transactions\n",
    "FROM\n",
    "    store_sales;"
   ]
  },
  {
   "cell_type": "markdown",
   "metadata": {
    "azdata_cell_guid": "a5febb94-c18f-45ba-999a-be80bdb54165",
    "language": "sql"
   },
   "source": [
    "**Transactions by Month**\n",
    "\n",
    "The following query shows the number of transactions made by each month of the year"
   ]
  },
  {
   "cell_type": "code",
   "execution_count": 4,
   "metadata": {
    "azdata_cell_guid": "8bfb6316-c265-4515-87a8-344bf4dc5d8d",
    "language": "sql"
   },
   "outputs": [
    {
     "data": {
      "text/html": [
       "(12 row(s) affected)"
      ]
     },
     "metadata": {},
     "output_type": "display_data"
    },
    {
     "data": {
      "text/html": [
       "Total execution time: 00:00:00.005"
      ]
     },
     "metadata": {},
     "output_type": "display_data"
    },
    {
     "data": {
      "application/vnd.dataresource+json": {
       "data": [
        {
         "0": "1",
         "1": "31"
        },
        {
         "0": "2",
         "1": "28"
        },
        {
         "0": "3",
         "1": "31"
        },
        {
         "0": "4",
         "1": "30"
        },
        {
         "0": "5",
         "1": "31"
        },
        {
         "0": "6",
         "1": "30"
        },
        {
         "0": "7",
         "1": "31"
        },
        {
         "0": "8",
         "1": "31"
        },
        {
         "0": "9",
         "1": "30"
        },
        {
         "0": "10",
         "1": "31"
        },
        {
         "0": "11",
         "1": "30"
        },
        {
         "0": "12",
         "1": "31"
        }
       ],
       "schema": {
        "fields": [
         {
          "name": "month_of_year"
         },
         {
          "name": "transactions"
         }
        ]
       }
      },
      "text/html": [
       "<table><tr><th>month_of_year</th><th>transactions</th></tr><tr><td>1</td><td>31</td></tr><tr><td>2</td><td>28</td></tr><tr><td>3</td><td>31</td></tr><tr><td>4</td><td>30</td></tr><tr><td>5</td><td>31</td></tr><tr><td>6</td><td>30</td></tr><tr><td>7</td><td>31</td></tr><tr><td>8</td><td>31</td></tr><tr><td>9</td><td>30</td></tr><tr><td>10</td><td>31</td></tr><tr><td>11</td><td>30</td></tr><tr><td>12</td><td>31</td></tr></table>"
      ]
     },
     "execution_count": 4,
     "metadata": {},
     "output_type": "execute_result"
    }
   ],
   "source": [
    "SELECT \n",
    "    month_of_year,\n",
    "    COUNT(*) AS transactions\n",
    "FROM\n",
    "    store_sales\n",
    "GROUP BY\n",
    "    month_of_year\n",
    "ORDER BY\n",
    "    month_of_year;"
   ]
  },
  {
   "cell_type": "markdown",
   "metadata": {
    "azdata_cell_guid": "484d7d78-97d6-4ded-895a-3bfb2e4b27f3",
    "language": "sql"
   },
   "source": [
    "**Annual Maximum and Minimum Employees**\n",
    "\n",
    "The followuing query shows the maximum and minimum number of employees for any shift during the year"
   ]
  },
  {
   "cell_type": "code",
   "execution_count": 10,
   "metadata": {
    "azdata_cell_guid": "55b16127-3b0d-4b49-9265-35ec27f074d9",
    "language": ""
   },
   "outputs": [
    {
     "data": {
      "text/html": [
       "(1 row(s) affected)"
      ]
     },
     "metadata": {},
     "output_type": "display_data"
    },
    {
     "data": {
      "text/html": [
       "Total execution time: 00:00:00.004"
      ]
     },
     "metadata": {},
     "output_type": "display_data"
    },
    {
     "data": {
      "application/vnd.dataresource+json": {
       "data": [
        {
         "0": "7",
         "1": "0"
        }
       ],
       "schema": {
        "fields": [
         {
          "name": "maximum_employees"
         },
         {
          "name": "minimum_employees"
         }
        ]
       }
      },
      "text/html": [
       "<table><tr><th>maximum_employees</th><th>minimum_employees</th></tr><tr><td>7</td><td>0</td></tr></table>"
      ]
     },
     "execution_count": 10,
     "metadata": {},
     "output_type": "execute_result"
    }
   ],
   "source": [
    "SELECT\n",
    "    MAX(employee_shifts) AS maximum_employees,\n",
    "    MIN(employee_shifts) AS minimum_employees\n",
    "FROM\n",
    "    store_sales"
   ]
  },
  {
   "cell_type": "markdown",
   "metadata": {
    "azdata_cell_guid": "1faa6d95-11f2-4bf0-80e1-ce11539cdc5a"
   },
   "source": [
    "**Monthly Maximum and Minimum Employees**\n",
    "\n",
    "The following query shows the maximum and minimum number of employees for any shift by each month of the year"
   ]
  },
  {
   "cell_type": "code",
   "execution_count": 11,
   "metadata": {
    "azdata_cell_guid": "fdaa0981-807e-45d2-82b7-aa14e1b3a11a",
    "language": "sql"
   },
   "outputs": [
    {
     "data": {
      "text/html": [
       "(12 row(s) affected)"
      ]
     },
     "metadata": {},
     "output_type": "display_data"
    },
    {
     "data": {
      "text/html": [
       "Total execution time: 00:00:00.005"
      ]
     },
     "metadata": {},
     "output_type": "display_data"
    },
    {
     "data": {
      "application/vnd.dataresource+json": {
       "data": [
        {
         "0": "1",
         "1": "3",
         "2": "3"
        },
        {
         "0": "2",
         "1": "4",
         "2": "3"
        },
        {
         "0": "3",
         "1": "4",
         "2": "4"
        },
        {
         "0": "4",
         "1": "4",
         "2": "4"
        },
        {
         "0": "5",
         "1": "5",
         "2": "4"
        },
        {
         "0": "6",
         "1": "5",
         "2": "5"
        },
        {
         "0": "7",
         "1": "5",
         "2": "4"
        },
        {
         "0": "8",
         "1": "4",
         "2": "3"
        },
        {
         "0": "9",
         "1": "3",
         "2": "3"
        },
        {
         "0": "10",
         "1": "4",
         "2": "3"
        },
        {
         "0": "11",
         "1": "5",
         "2": "4"
        },
        {
         "0": "12",
         "1": "7",
         "2": "0"
        }
       ],
       "schema": {
        "fields": [
         {
          "name": "month_of_year"
         },
         {
          "name": "maximum_employees"
         },
         {
          "name": "minimum_employees"
         }
        ]
       }
      },
      "text/html": [
       "<table><tr><th>month_of_year</th><th>maximum_employees</th><th>minimum_employees</th></tr><tr><td>1</td><td>3</td><td>3</td></tr><tr><td>2</td><td>4</td><td>3</td></tr><tr><td>3</td><td>4</td><td>4</td></tr><tr><td>4</td><td>4</td><td>4</td></tr><tr><td>5</td><td>5</td><td>4</td></tr><tr><td>6</td><td>5</td><td>5</td></tr><tr><td>7</td><td>5</td><td>4</td></tr><tr><td>8</td><td>4</td><td>3</td></tr><tr><td>9</td><td>3</td><td>3</td></tr><tr><td>10</td><td>4</td><td>3</td></tr><tr><td>11</td><td>5</td><td>4</td></tr><tr><td>12</td><td>7</td><td>0</td></tr></table>"
      ]
     },
     "execution_count": 11,
     "metadata": {},
     "output_type": "execute_result"
    }
   ],
   "source": [
    "SELECT\n",
    "    month_of_year,\n",
    "    MAX(employee_shifts) AS maximum_employees,\n",
    "    MIN(employee_shifts) AS minimum_employees\n",
    "FROM\n",
    "    store_sales\n",
    "GROUP BY\n",
    "    month_of_year\n",
    "ORDER BY\n",
    "    month_of_year;"
   ]
  },
  {
   "cell_type": "markdown",
   "metadata": {
    "azdata_cell_guid": "aaec1db6-72e6-4a5a-9dcb-de62ed0f75cf",
    "language": "sql"
   },
   "source": [
    "**Total Units Sold**\n",
    "\n",
    "The following query shows the total number of units sold over the year"
   ]
  },
  {
   "cell_type": "code",
   "execution_count": 13,
   "metadata": {
    "azdata_cell_guid": "f50a3c26-97e4-4d64-a1e6-ebd978432001",
    "language": "sql"
   },
   "outputs": [
    {
     "data": {
      "text/html": [
       "(1 row(s) affected)"
      ]
     },
     "metadata": {},
     "output_type": "display_data"
    },
    {
     "data": {
      "text/html": [
       "Total execution time: 00:00:00.005"
      ]
     },
     "metadata": {},
     "output_type": "display_data"
    },
    {
     "data": {
      "application/vnd.dataresource+json": {
       "data": [
        {
         "0": "176604"
        }
       ],
       "schema": {
        "fields": [
         {
          "name": "total_units"
         }
        ]
       }
      },
      "text/html": [
       "<table><tr><th>total_units</th></tr><tr><td>176604</td></tr></table>"
      ]
     },
     "execution_count": 13,
     "metadata": {},
     "output_type": "execute_result"
    }
   ],
   "source": [
    "SELECT\n",
    "    SUM(units_sold) AS total_units\n",
    "FROM\n",
    "    store_sales;"
   ]
  },
  {
   "cell_type": "markdown",
   "metadata": {
    "azdata_cell_guid": "31b0d4bf-8e99-40d6-9f24-b2fa6e1d5e34",
    "language": "sql"
   },
   "source": [
    "**Total & Average Units Sold by Month**\n",
    "\n",
    "The following query shows the total and average number of units sold by each month of the year"
   ]
  },
  {
   "cell_type": "code",
   "execution_count": 16,
   "metadata": {
    "azdata_cell_guid": "7e348d8c-3b95-4951-a621-1baf5017a62c",
    "language": "sql"
   },
   "outputs": [
    {
     "data": {
      "text/html": [
       "(12 row(s) affected)"
      ]
     },
     "metadata": {},
     "output_type": "display_data"
    },
    {
     "data": {
      "text/html": [
       "Total execution time: 00:00:00.002"
      ]
     },
     "metadata": {},
     "output_type": "display_data"
    },
    {
     "data": {
      "application/vnd.dataresource+json": {
       "data": [
        {
         "0": "1",
         "1": "8473",
         "2": "273.32"
        },
        {
         "0": "2",
         "1": "12954",
         "2": "462.64"
        },
        {
         "0": "3",
         "1": "16134",
         "2": "520.45"
        },
        {
         "0": "4",
         "1": "15094",
         "2": "503.13"
        },
        {
         "0": "5",
         "1": "16895",
         "2": "545.00"
        },
        {
         "0": "6",
         "1": "17506",
         "2": "583.53"
        },
        {
         "0": "7",
         "1": "18578",
         "2": "599.29"
        },
        {
         "0": "8",
         "1": "15816",
         "2": "510.19"
        },
        {
         "0": "9",
         "1": "12413",
         "2": "413.77"
        },
        {
         "0": "10",
         "1": "8055",
         "2": "259.84"
        },
        {
         "0": "11",
         "1": "16073",
         "2": "535.77"
        },
        {
         "0": "12",
         "1": "18613",
         "2": "600.42"
        }
       ],
       "schema": {
        "fields": [
         {
          "name": "month_of_year"
         },
         {
          "name": "total_units_sold"
         },
         {
          "name": "average_units_sold"
         }
        ]
       }
      },
      "text/html": [
       "<table><tr><th>month_of_year</th><th>total_units_sold</th><th>average_units_sold</th></tr><tr><td>1</td><td>8473</td><td>273.32</td></tr><tr><td>2</td><td>12954</td><td>462.64</td></tr><tr><td>3</td><td>16134</td><td>520.45</td></tr><tr><td>4</td><td>15094</td><td>503.13</td></tr><tr><td>5</td><td>16895</td><td>545.00</td></tr><tr><td>6</td><td>17506</td><td>583.53</td></tr><tr><td>7</td><td>18578</td><td>599.29</td></tr><tr><td>8</td><td>15816</td><td>510.19</td></tr><tr><td>9</td><td>12413</td><td>413.77</td></tr><tr><td>10</td><td>8055</td><td>259.84</td></tr><tr><td>11</td><td>16073</td><td>535.77</td></tr><tr><td>12</td><td>18613</td><td>600.42</td></tr></table>"
      ]
     },
     "execution_count": 16,
     "metadata": {},
     "output_type": "execute_result"
    }
   ],
   "source": [
    "SELECT\n",
    "    month_of_year,\n",
    "    SUM(units_sold) AS total_units_sold,\n",
    "    ROUND(AVG(units_sold), 2) AS average_units_sold\n",
    "FROM\n",
    "    store_sales\n",
    "GROUP BY\n",
    "    month_of_year\n",
    "ORDER BY\n",
    "    month_of_year;"
   ]
  },
  {
   "cell_type": "markdown",
   "metadata": {
    "azdata_cell_guid": "df3fa738-fab7-4280-9a5d-188cad2e07eb",
    "language": "sql"
   },
   "source": [
    "**Variance & Standard Deviation of Units Sold by Month**\n",
    "\n",
    "The following query shows the population variance and standard deviation of the monthly units sold"
   ]
  },
  {
   "cell_type": "code",
   "execution_count": 18,
   "metadata": {
    "azdata_cell_guid": "2e19c2ea-e233-4416-9ba9-232724123d9d",
    "language": "sql"
   },
   "outputs": [
    {
     "data": {
      "text/html": [
       "(12 row(s) affected)"
      ]
     },
     "metadata": {},
     "output_type": "display_data"
    },
    {
     "data": {
      "text/html": [
       "Total execution time: 00:00:00.003"
      ]
     },
     "metadata": {},
     "output_type": "display_data"
    },
    {
     "data": {
      "application/vnd.dataresource+json": {
       "data": [
        {
         "0": "1",
         "1": "8737.70",
         "2": "93.48"
        },
        {
         "0": "2",
         "1": "27407.02",
         "2": "165.55"
        },
        {
         "0": "3",
         "1": "13782.12",
         "2": "117.40"
        },
        {
         "0": "4",
         "1": "15481.72",
         "2": "124.43"
        },
        {
         "0": "5",
         "1": "24040.06",
         "2": "155.05"
        },
        {
         "0": "6",
         "1": "14059.92",
         "2": "118.57"
        },
        {
         "0": "7",
         "1": "14998.85",
         "2": "122.47"
        },
        {
         "0": "8",
         "1": "12227.38",
         "2": "110.58"
        },
        {
         "0": "9",
         "1": "20261.91",
         "2": "142.34"
        },
        {
         "0": "10",
         "1": "11790.84",
         "2": "108.59"
        },
        {
         "0": "11",
         "1": "28680.25",
         "2": "169.35"
        },
        {
         "0": "12",
         "1": "53431.34",
         "2": "231.15"
        }
       ],
       "schema": {
        "fields": [
         {
          "name": "month_of_year"
         },
         {
          "name": "variance"
         },
         {
          "name": "standard_deviation"
         }
        ]
       }
      },
      "text/html": [
       "<table><tr><th>month_of_year</th><th>variance</th><th>standard_deviation</th></tr><tr><td>1</td><td>8737.70</td><td>93.48</td></tr><tr><td>2</td><td>27407.02</td><td>165.55</td></tr><tr><td>3</td><td>13782.12</td><td>117.40</td></tr><tr><td>4</td><td>15481.72</td><td>124.43</td></tr><tr><td>5</td><td>24040.06</td><td>155.05</td></tr><tr><td>6</td><td>14059.92</td><td>118.57</td></tr><tr><td>7</td><td>14998.85</td><td>122.47</td></tr><tr><td>8</td><td>12227.38</td><td>110.58</td></tr><tr><td>9</td><td>20261.91</td><td>142.34</td></tr><tr><td>10</td><td>11790.84</td><td>108.59</td></tr><tr><td>11</td><td>28680.25</td><td>169.35</td></tr><tr><td>12</td><td>53431.34</td><td>231.15</td></tr></table>"
      ]
     },
     "execution_count": 18,
     "metadata": {},
     "output_type": "execute_result"
    }
   ],
   "source": [
    "SELECT\n",
    "    month_of_year,\n",
    "    ROUND(VAR_POP(units_sold), 2) AS variance,\n",
    "    ROUND(STDDEV_POP(units_sold), 2) AS standard_deviation\n",
    "FROM\n",
    "    store_sales\n",
    "GROUP BY\n",
    "    month_of_year\n",
    "ORDER BY\n",
    "    month_of_year;"
   ]
  },
  {
   "cell_type": "markdown",
   "metadata": {},
   "source": [
    "## Percentiles and Frequencies\n",
    "\n",
    "Percentiles are one hundred equal groups of the population"
   ]
  },
  {
   "cell_type": "markdown",
   "metadata": {
    "azdata_cell_guid": "66c2c734-6f2c-443c-8053-b5cffb4a91ee",
    "language": "sql"
   },
   "source": [
    "### Discrete Percentile\n",
    "\n",
    "The discrete percentile returns the first value that exceeds the given percentile mark in a ordered list of values, i.e., the number is present within our data.<br>\n",
    "It is the first data point that exceeds the given percentile mark."
   ]
  },
  {
   "cell_type": "markdown",
   "metadata": {
    "azdata_cell_guid": "ef9c720f-aca4-4806-8003-198b47b5c765",
    "language": "sql"
   },
   "source": [
    "**Revenue Discrete Percentiles**\n",
    "\n",
    "The following query shows the discrete percentiles, i.e., 25th, 50th, 75th and 95th percentiles of the revenue"
   ]
  },
  {
   "cell_type": "code",
   "execution_count": 30,
   "metadata": {
    "azdata_cell_guid": "017b016b-6844-4410-9702-2eeebe35188f",
    "language": "sql"
   },
   "outputs": [
    {
     "data": {
      "text/html": [
       "(1 row(s) affected)"
      ]
     },
     "metadata": {},
     "output_type": "display_data"
    },
    {
     "data": {
      "text/html": [
       "Total execution time: 00:00:00.004"
      ]
     },
     "metadata": {},
     "output_type": "display_data"
    },
    {
     "data": {
      "application/vnd.dataresource+json": {
       "data": [
        {
         "0": "Discrete Percentiles - Revenue",
         "1": "4272",
         "2": "5856",
         "3": "7524",
         "4": "9192"
        }
       ],
       "schema": {
        "fields": [
         {
          "name": "Metric"
         },
         {
          "name": "25%"
         },
         {
          "name": "50%"
         },
         {
          "name": "75%"
         },
         {
          "name": "95%"
         }
        ]
       }
      },
      "text/html": [
       "<table><tr><th>Metric</th><th>25%</th><th>50%</th><th>75%</th><th>95%</th></tr><tr><td>Discrete Percentiles - Revenue</td><td>4272</td><td>5856</td><td>7524</td><td>9192</td></tr></table>"
      ]
     },
     "execution_count": 30,
     "metadata": {},
     "output_type": "execute_result"
    }
   ],
   "source": [
    "SELECT\n",
    "    'Discrete Percentiles - Revenue' AS \"Metric\",\n",
    "    PERCENTILE_DISC(0.25) WITHIN GROUP (ORDER BY revenue) AS \"25%\",\n",
    "    PERCENTILE_DISC(0.50) WITHIN GROUP (ORDER BY revenue) AS \"50%\",\n",
    "    PERCENTILE_DISC(0.75) WITHIN GROUP (ORDER BY revenue) AS \"75%\",\n",
    "    PERCENTILE_DISC(0.95) WITHIN GROUP (ORDER BY revenue) AS \"95%\"\n",
    "FROM\n",
    "    store_sales;"
   ]
  },
  {
   "cell_type": "markdown",
   "metadata": {},
   "source": [
    "### Continuous Percentile\n",
    "\n",
    "This is the actual percentile value and maynot present as the data point in the dataset. So, this provides the boundaries of percentiles. It basically interpolates the boundary values between the percentiles.<br>\n",
    "Continuous percentiles are useful when you want to know what is the value at the boundary between two percentile buckets."
   ]
  },
  {
   "cell_type": "markdown",
   "metadata": {
    "azdata_cell_guid": "127c3caf-3c58-4ed6-8fe4-f58c1e6ee268",
    "language": "sql"
   },
   "source": [
    "**Revenue Continuous Percentiles**\n",
    "\n",
    "The following query shows the continuous percentiles, i.e., 25th, 50th, 75th and 95th percentiles of the revenue"
   ]
  },
  {
   "cell_type": "code",
   "execution_count": 31,
   "metadata": {
    "azdata_cell_guid": "2443200a-9785-4e3d-9e01-7dbba95dfbdc",
    "language": "sql"
   },
   "outputs": [
    {
     "data": {
      "text/html": [
       "(1 row(s) affected)"
      ]
     },
     "metadata": {},
     "output_type": "display_data"
    },
    {
     "data": {
      "text/html": [
       "Total execution time: 00:00:00.012"
      ]
     },
     "metadata": {},
     "output_type": "display_data"
    },
    {
     "data": {
      "application/vnd.dataresource+json": {
       "data": [
        {
         "0": "Continuous Percentiles - Revenue",
         "1": "4272.0",
         "2": "5856.0",
         "3": "7524.0",
         "4": "9189.6"
        }
       ],
       "schema": {
        "fields": [
         {
          "name": "Metric"
         },
         {
          "name": "25%"
         },
         {
          "name": "50%"
         },
         {
          "name": "75%"
         },
         {
          "name": "95%"
         }
        ]
       }
      },
      "text/html": [
       "<table><tr><th>Metric</th><th>25%</th><th>50%</th><th>75%</th><th>95%</th></tr><tr><td>Continuous Percentiles - Revenue</td><td>4272.0</td><td>5856.0</td><td>7524.0</td><td>9189.6</td></tr></table>"
      ]
     },
     "execution_count": 31,
     "metadata": {},
     "output_type": "execute_result"
    }
   ],
   "source": [
    "SELECT\n",
    "    'Continuous Percentiles - Revenue' AS \"Metric\",\n",
    "    PERCENTILE_CONT(0.25) WITHIN GROUP (ORDER BY revenue) AS \"25%\",\n",
    "    PERCENTILE_CONT(0.50) WITHIN GROUP (ORDER BY revenue) AS \"50%\",\n",
    "    PERCENTILE_CONT(0.75) WITHIN GROUP (ORDER BY revenue) AS \"75%\",\n",
    "    PERCENTILE_CONT(0.95) WITHIN GROUP (ORDER BY revenue) AS \"95%\"\n",
    "FROM\n",
    "    store_sales;"
   ]
  },
  {
   "cell_type": "markdown",
   "metadata": {
    "azdata_cell_guid": "862d9683-824f-4c01-819c-ba190cc21026",
    "language": "sql"
   },
   "source": [
    "## Correlation\n",
    "\n",
    "Correlation considers how two columns vary together.\n",
    "\n",
    "- **Correlated / Positively Correlated** : values of the 2 variables move together in same direction\n",
    "- **Inverse / Negatively Correlated** : values of the 2 variables move together in opposite direction"
   ]
  },
  {
   "cell_type": "markdown",
   "metadata": {
    "azdata_cell_guid": "e03b6bf8-55e8-4295-b647-2c5363efed14",
    "language": ""
   },
   "source": [
    "**Correlation of Metrices**\n",
    "\n",
    "The following query shows the correlation between the following sales metrics:\n",
    "- `units_sold` and `revenue`\n",
    "- `units_sold` and `employee_shifts`\n",
    "- `units_sold` and `month_of_year`\n"
   ]
  },
  {
   "cell_type": "code",
   "execution_count": 38,
   "metadata": {
    "azdata_cell_guid": "ac5fae35-4888-4092-9aee-ecab74694895",
    "language": "sql",
    "tags": []
   },
   "outputs": [
    {
     "data": {
      "text/html": [
       "(1 row(s) affected)"
      ]
     },
     "metadata": {},
     "output_type": "display_data"
    },
    {
     "data": {
      "text/html": [
       "Total execution time: 00:00:00.003"
      ]
     },
     "metadata": {},
     "output_type": "display_data"
    },
    {
     "data": {
      "application/vnd.dataresource+json": {
       "data": [
        {
         "0": "1.00",
         "1": "0.56",
         "2": "0.13"
        }
       ],
       "schema": {
        "fields": [
         {
          "name": "units_and_revenue_corr"
         },
         {
          "name": "units_and_employee_shift_corr"
         },
         {
          "name": "units_and_month_corr"
         }
        ]
       }
      },
      "text/html": [
       "<table><tr><th>units_and_revenue_corr</th><th>units_and_employee_shift_corr</th><th>units_and_month_corr</th></tr><tr><td>1.00</td><td>0.56</td><td>0.13</td></tr></table>"
      ]
     },
     "execution_count": 38,
     "metadata": {},
     "output_type": "execute_result"
    }
   ],
   "source": [
    "SELECT\n",
    "    ROUND(CORR(units_sold, revenue)::NUMERIC, 2) AS units_and_revenue_corr,\n",
    "    ROUND(CORR(units_sold, employee_shifts)::NUMERIC, 2) AS units_and_employee_shift_corr,\n",
    "    ROUND(CORR(units_sold, month_of_year)::NUMERIC, 2) AS units_and_month_corr\n",
    "FROM\n",
    "    store_sales;"
   ]
  },
  {
   "cell_type": "markdown",
   "metadata": {
    "azdata_cell_guid": "d6241798-4b3e-4c33-a0ec-899a2684c993",
    "language": "sql"
   },
   "source": [
    "## Ranking & Mode"
   ]
  },
  {
   "cell_type": "markdown",
   "metadata": {
    "azdata_cell_guid": "16340aa7-a464-49f0-aa12-d8317d4ede0d",
    "language": "sql"
   },
   "source": [
    "**Ranking Units Sold**\n",
    "\n",
    "The following query ranks the units sold over the months in descending order"
   ]
  },
  {
   "cell_type": "code",
   "execution_count": 56,
   "metadata": {
    "azdata_cell_guid": "cf87d4f0-3ee2-44bb-9bcc-a07a3e8e0c54",
    "language": "sql"
   },
   "outputs": [
    {
     "data": {
      "text/html": [
       "(12 row(s) affected)"
      ]
     },
     "metadata": {},
     "output_type": "display_data"
    },
    {
     "data": {
      "text/html": [
       "Total execution time: 00:00:00.005"
      ]
     },
     "metadata": {},
     "output_type": "display_data"
    },
    {
     "data": {
      "application/vnd.dataresource+json": {
       "data": [
        {
         "0": "1",
         "1": "8473",
         "2": "11"
        },
        {
         "0": "2",
         "1": "12954",
         "2": "9"
        },
        {
         "0": "3",
         "1": "16134",
         "2": "5"
        },
        {
         "0": "4",
         "1": "15094",
         "2": "8"
        },
        {
         "0": "5",
         "1": "16895",
         "2": "4"
        },
        {
         "0": "6",
         "1": "17506",
         "2": "3"
        },
        {
         "0": "7",
         "1": "18578",
         "2": "2"
        },
        {
         "0": "8",
         "1": "15816",
         "2": "7"
        },
        {
         "0": "9",
         "1": "12413",
         "2": "10"
        },
        {
         "0": "10",
         "1": "8055",
         "2": "12"
        },
        {
         "0": "11",
         "1": "16073",
         "2": "6"
        },
        {
         "0": "12",
         "1": "18613",
         "2": "1"
        }
       ],
       "schema": {
        "fields": [
         {
          "name": "month_of_year"
         },
         {
          "name": "units_sold"
         },
         {
          "name": "units_sold_rank"
         }
        ]
       }
      },
      "text/html": [
       "<table><tr><th>month_of_year</th><th>units_sold</th><th>units_sold_rank</th></tr><tr><td>1</td><td>8473</td><td>11</td></tr><tr><td>2</td><td>12954</td><td>9</td></tr><tr><td>3</td><td>16134</td><td>5</td></tr><tr><td>4</td><td>15094</td><td>8</td></tr><tr><td>5</td><td>16895</td><td>4</td></tr><tr><td>6</td><td>17506</td><td>3</td></tr><tr><td>7</td><td>18578</td><td>2</td></tr><tr><td>8</td><td>15816</td><td>7</td></tr><tr><td>9</td><td>12413</td><td>10</td></tr><tr><td>10</td><td>8055</td><td>12</td></tr><tr><td>11</td><td>16073</td><td>6</td></tr><tr><td>12</td><td>18613</td><td>1</td></tr></table>"
      ]
     },
     "execution_count": 56,
     "metadata": {},
     "output_type": "execute_result"
    }
   ],
   "source": [
    "WITH units_sold_by_month AS\n",
    "(\n",
    "SELECT\n",
    "    month_of_year,\n",
    "    SUM(units_sold) AS units_sold\n",
    "FROM\n",
    "    store_sales\n",
    "GROUP BY\n",
    "    month_of_year\n",
    ")\n",
    "\n",
    "SELECT\n",
    "    month_of_year,\n",
    "    units_sold,\n",
    "    ROW_NUMBER() OVER (ORDER BY units_sold DESC) AS units_sold_rank\n",
    "FROM\n",
    "    units_sold_by_month\n",
    "ORDER BY\n",
    "    month_of_year;"
   ]
  },
  {
   "cell_type": "markdown",
   "metadata": {
    "azdata_cell_guid": "348d9c55-b80a-46d2-8f66-0531a1506878",
    "language": "sql"
   },
   "source": [
    "**Most Occuring Employees**\n",
    "\n",
    "The following query shows the most occuring employee number over each month"
   ]
  },
  {
   "cell_type": "code",
   "execution_count": 46,
   "metadata": {
    "azdata_cell_guid": "a4e5f446-3eff-4313-aef5-77e4c8b58a41",
    "language": ""
   },
   "outputs": [
    {
     "data": {
      "text/html": [
       "(12 row(s) affected)"
      ]
     },
     "metadata": {},
     "output_type": "display_data"
    },
    {
     "data": {
      "text/html": [
       "Total execution time: 00:00:00.005"
      ]
     },
     "metadata": {},
     "output_type": "display_data"
    },
    {
     "data": {
      "application/vnd.dataresource+json": {
       "data": [
        {
         "0": "1",
         "1": "3"
        },
        {
         "0": "2",
         "1": "4"
        },
        {
         "0": "3",
         "1": "4"
        },
        {
         "0": "4",
         "1": "4"
        },
        {
         "0": "5",
         "1": "5"
        },
        {
         "0": "6",
         "1": "5"
        },
        {
         "0": "7",
         "1": "5"
        },
        {
         "0": "8",
         "1": "4"
        },
        {
         "0": "9",
         "1": "3"
        },
        {
         "0": "10",
         "1": "3"
        },
        {
         "0": "11",
         "1": "4"
        },
        {
         "0": "12",
         "1": "7"
        }
       ],
       "schema": {
        "fields": [
         {
          "name": "month_of_year"
         },
         {
          "name": "employee_mode"
         }
        ]
       }
      },
      "text/html": [
       "<table><tr><th>month_of_year</th><th>employee_mode</th></tr><tr><td>1</td><td>3</td></tr><tr><td>2</td><td>4</td></tr><tr><td>3</td><td>4</td></tr><tr><td>4</td><td>4</td></tr><tr><td>5</td><td>5</td></tr><tr><td>6</td><td>5</td></tr><tr><td>7</td><td>5</td></tr><tr><td>8</td><td>4</td></tr><tr><td>9</td><td>3</td></tr><tr><td>10</td><td>3</td></tr><tr><td>11</td><td>4</td></tr><tr><td>12</td><td>7</td></tr></table>"
      ]
     },
     "execution_count": 46,
     "metadata": {},
     "output_type": "execute_result"
    }
   ],
   "source": [
    "SELECT\n",
    "    month_of_year,\n",
    "    MODE() WITHIN GROUP (ORDER BY employee_shifts) AS employee_mode\n",
    "FROM\n",
    "    store_sales\n",
    "GROUP BY\n",
    "    month_of_year\n",
    "ORDER BY\n",
    "    month_of_year;"
   ]
  },
  {
   "cell_type": "markdown",
   "metadata": {
    "azdata_cell_guid": "d4180b3b-1e3a-433a-bf11-d858f72aee96"
   },
   "source": [
    "## Linear Regression\n",
    "\n",
    "The linear regression method can be used to determine the value of one metric based on the change in another metric.<br>\n",
    "We need to calculate the **slope** and **intercept** between the two metric and use these to determine the unknown variable.\n",
    "\n",
    "The mathematical formula is: $Y = mx + C$\n",
    "\n",
    "\n",
    "- $Y$ : Unknown variable to be determined\n",
    "- $x$ : Known variable\n",
    "- $m$ : Slope\n",
    "- $C$ : Y-intercept"
   ]
  },
  {
   "cell_type": "markdown",
   "metadata": {
    "azdata_cell_guid": "4d969c31-e17d-4377-86b3-57704010cf52"
   },
   "source": [
    "**Determine Required Employees**\n",
    "\n",
    "The following query calculates the number of required employees when the number of units sold is given.<br>\n",
    "In the process of calculation, we've determined the slope and Y-intercept between `units_sold` and `employee_shifts` and used these to calculates the number of employees afterwards.  "
   ]
  },
  {
   "cell_type": "code",
   "execution_count": 55,
   "metadata": {
    "azdata_cell_guid": "51387279-49c8-44f2-8e43-305177205c33",
    "language": "sql"
   },
   "outputs": [
    {
     "data": {
      "text/html": [
       "(1 row(s) affected)"
      ]
     },
     "metadata": {},
     "output_type": "display_data"
    },
    {
     "data": {
      "text/html": [
       "Total execution time: 00:00:00.004"
      ]
     },
     "metadata": {},
     "output_type": "display_data"
    },
    {
     "data": {
      "application/vnd.dataresource+json": {
       "data": [
        {
         "0": "1500",
         "1": "8.0"
        }
       ],
       "schema": {
        "fields": [
         {
          "name": "given_units_sold"
         },
         {
          "name": "required_employees"
         }
        ]
       }
      },
      "text/html": [
       "<table><tr><th>given_units_sold</th><th>required_employees</th></tr><tr><td>1500</td><td>8.0</td></tr></table>"
      ]
     },
     "execution_count": 55,
     "metadata": {},
     "output_type": "execute_result"
    }
   ],
   "source": [
    "WITH reg_metrics AS\n",
    "(\n",
    "    SELECT\n",
    "        REGR_SLOPE(employee_shifts, units_sold) AS slope,\n",
    "        REGR_INTERCEPT(employee_shifts, units_sold) AS intercept\n",
    "    FROM\n",
    "        store_sales\n",
    ")\n",
    "\n",
    "SELECT\n",
    "    1500 AS given_units_sold,\n",
    "    CEIL(slope * 1500 + intercept) AS required_employees\n",
    "FROM\n",
    "    reg_metrics;"
   ]
  }
 ],
 "metadata": {
  "kernelspec": {
   "display_name": "SQL",
   "language": "sql",
   "name": "SQL"
  },
  "language_info": {
   "name": "sql",
   "version": ""
  }
 },
 "nbformat": 4,
 "nbformat_minor": 4
}
